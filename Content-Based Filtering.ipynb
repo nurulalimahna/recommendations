{
 "cells": [
  {
   "cell_type": "markdown",
   "id": "d059c02c",
   "metadata": {},
   "source": [
    "# Import Library"
   ]
  },
  {
   "cell_type": "code",
   "execution_count": 1,
   "id": "8fa6ef36",
   "metadata": {},
   "outputs": [],
   "source": [
    "import pandas as pd\n",
    "from sklearn.metrics.pairwise import cosine_similarity\n",
    "from sklearn.feature_extraction.text import CountVectorizer\n",
    "from nltk.corpus import stopwords\n",
    "import re"
   ]
  },
  {
   "cell_type": "markdown",
   "id": "a1e7b445",
   "metadata": {},
   "source": [
    "# Describe The Data"
   ]
  },
  {
   "cell_type": "code",
   "execution_count": 2,
   "id": "e8d96e21",
   "metadata": {},
   "outputs": [
    {
     "data": {
      "text/html": [
       "<div>\n",
       "<style scoped>\n",
       "    .dataframe tbody tr th:only-of-type {\n",
       "        vertical-align: middle;\n",
       "    }\n",
       "\n",
       "    .dataframe tbody tr th {\n",
       "        vertical-align: top;\n",
       "    }\n",
       "\n",
       "    .dataframe thead th {\n",
       "        text-align: right;\n",
       "    }\n",
       "</style>\n",
       "<table border=\"1\" class=\"dataframe\">\n",
       "  <thead>\n",
       "    <tr style=\"text-align: right;\">\n",
       "      <th></th>\n",
       "      <th>Title</th>\n",
       "      <th>Genre</th>\n",
       "      <th>Director</th>\n",
       "      <th>Writer</th>\n",
       "      <th>Actors</th>\n",
       "      <th>Released</th>\n",
       "      <th>Plot</th>\n",
       "    </tr>\n",
       "  </thead>\n",
       "  <tbody>\n",
       "    <tr>\n",
       "      <th>0</th>\n",
       "      <td>The Shawshank Redemption</td>\n",
       "      <td>Crime, Drama</td>\n",
       "      <td>Frank Darabont</td>\n",
       "      <td>Stephen King (short story \"Rita Hayworth and S...</td>\n",
       "      <td>Tim Robbins, Morgan Freeman, Bob Gunton, Willi...</td>\n",
       "      <td>14 Oct 1994</td>\n",
       "      <td>Two imprisoned men bond over a number of years...</td>\n",
       "    </tr>\n",
       "    <tr>\n",
       "      <th>1</th>\n",
       "      <td>The Godfather</td>\n",
       "      <td>Crime, Drama</td>\n",
       "      <td>Francis Ford Coppola</td>\n",
       "      <td>Mario Puzo (screenplay), Francis Ford Coppola ...</td>\n",
       "      <td>Marlon Brando, Al Pacino, James Caan, Richard ...</td>\n",
       "      <td>24 Mar 1972</td>\n",
       "      <td>The aging patriarch of an organized crime dyna...</td>\n",
       "    </tr>\n",
       "    <tr>\n",
       "      <th>2</th>\n",
       "      <td>The Godfather: Part II</td>\n",
       "      <td>Crime, Drama</td>\n",
       "      <td>Francis Ford Coppola</td>\n",
       "      <td>Francis Ford Coppola (screenplay), Mario Puzo ...</td>\n",
       "      <td>Al Pacino, Robert Duvall, Diane Keaton, Robert...</td>\n",
       "      <td>20 Dec 1974</td>\n",
       "      <td>The early life and career of Vito Corleone in ...</td>\n",
       "    </tr>\n",
       "    <tr>\n",
       "      <th>3</th>\n",
       "      <td>The Dark Knight</td>\n",
       "      <td>Action, Crime, Drama</td>\n",
       "      <td>Christopher Nolan</td>\n",
       "      <td>Jonathan Nolan (screenplay), Christopher Nolan...</td>\n",
       "      <td>Christian Bale, Heath Ledger, Aaron Eckhart, M...</td>\n",
       "      <td>18 Jul 2008</td>\n",
       "      <td>When the menace known as the Joker emerges fro...</td>\n",
       "    </tr>\n",
       "    <tr>\n",
       "      <th>4</th>\n",
       "      <td>12 Angry Men</td>\n",
       "      <td>Crime, Drama</td>\n",
       "      <td>Sidney Lumet</td>\n",
       "      <td>Reginald Rose (story), Reginald Rose (screenplay)</td>\n",
       "      <td>Martin Balsam, John Fiedler, Lee J. Cobb, E.G....</td>\n",
       "      <td>01 Apr 1957</td>\n",
       "      <td>A jury holdout attempts to prevent a miscarria...</td>\n",
       "    </tr>\n",
       "  </tbody>\n",
       "</table>\n",
       "</div>"
      ],
      "text/plain": [
       "                      Title                 Genre              Director  \\\n",
       "0  The Shawshank Redemption          Crime, Drama        Frank Darabont   \n",
       "1             The Godfather          Crime, Drama  Francis Ford Coppola   \n",
       "2    The Godfather: Part II          Crime, Drama  Francis Ford Coppola   \n",
       "3           The Dark Knight  Action, Crime, Drama     Christopher Nolan   \n",
       "4              12 Angry Men          Crime, Drama          Sidney Lumet   \n",
       "\n",
       "                                              Writer  \\\n",
       "0  Stephen King (short story \"Rita Hayworth and S...   \n",
       "1  Mario Puzo (screenplay), Francis Ford Coppola ...   \n",
       "2  Francis Ford Coppola (screenplay), Mario Puzo ...   \n",
       "3  Jonathan Nolan (screenplay), Christopher Nolan...   \n",
       "4  Reginald Rose (story), Reginald Rose (screenplay)   \n",
       "\n",
       "                                              Actors     Released  \\\n",
       "0  Tim Robbins, Morgan Freeman, Bob Gunton, Willi...  14 Oct 1994   \n",
       "1  Marlon Brando, Al Pacino, James Caan, Richard ...  24 Mar 1972   \n",
       "2  Al Pacino, Robert Duvall, Diane Keaton, Robert...  20 Dec 1974   \n",
       "3  Christian Bale, Heath Ledger, Aaron Eckhart, M...  18 Jul 2008   \n",
       "4  Martin Balsam, John Fiedler, Lee J. Cobb, E.G....  01 Apr 1957   \n",
       "\n",
       "                                                Plot  \n",
       "0  Two imprisoned men bond over a number of years...  \n",
       "1  The aging patriarch of an organized crime dyna...  \n",
       "2  The early life and career of Vito Corleone in ...  \n",
       "3  When the menace known as the Joker emerges fro...  \n",
       "4  A jury holdout attempts to prevent a miscarria...  "
      ]
     },
     "execution_count": 2,
     "metadata": {},
     "output_type": "execute_result"
    }
   ],
   "source": [
    "df = pd.read_csv('data/list_movies.csv')\n",
    "\n",
    "df = df[['Title','Genre','Director','Writer','Actors','Released','Plot']]\n",
    "df.head()"
   ]
  },
  {
   "cell_type": "code",
   "execution_count": 3,
   "id": "e7118df0",
   "metadata": {},
   "outputs": [
    {
     "data": {
      "text/plain": [
       "(250, 7)"
      ]
     },
     "execution_count": 3,
     "metadata": {},
     "output_type": "execute_result"
    }
   ],
   "source": [
    "df.shape "
   ]
  },
  {
   "cell_type": "code",
   "execution_count": 4,
   "id": "7f663436",
   "metadata": {},
   "outputs": [],
   "source": [
    "df.dropna(thresh=5, inplace=True)\n",
    "df.fillna(method='ffill', inplace=True)\n",
    "df.drop_duplicates(inplace=True)"
   ]
  },
  {
   "cell_type": "markdown",
   "id": "3a766ef5",
   "metadata": {},
   "source": [
    "# Training dan Modeling"
   ]
  },
  {
   "cell_type": "code",
   "execution_count": 5,
   "id": "898e4c9d",
   "metadata": {},
   "outputs": [],
   "source": [
    "df['rangkuman'] = df['Genre'] + ' ' + df['Director'] + ' ' + df['Actors'] + ' ' + df['Plot']"
   ]
  },
  {
   "cell_type": "code",
   "execution_count": 6,
   "id": "e3be36db",
   "metadata": {},
   "outputs": [
    {
     "data": {
      "text/html": [
       "<div>\n",
       "<style scoped>\n",
       "    .dataframe tbody tr th:only-of-type {\n",
       "        vertical-align: middle;\n",
       "    }\n",
       "\n",
       "    .dataframe tbody tr th {\n",
       "        vertical-align: top;\n",
       "    }\n",
       "\n",
       "    .dataframe thead th {\n",
       "        text-align: right;\n",
       "    }\n",
       "</style>\n",
       "<table border=\"1\" class=\"dataframe\">\n",
       "  <thead>\n",
       "    <tr style=\"text-align: right;\">\n",
       "      <th></th>\n",
       "      <th>Title</th>\n",
       "      <th>Genre</th>\n",
       "      <th>Director</th>\n",
       "      <th>Writer</th>\n",
       "      <th>Actors</th>\n",
       "      <th>Released</th>\n",
       "      <th>Plot</th>\n",
       "      <th>rangkuman</th>\n",
       "    </tr>\n",
       "  </thead>\n",
       "  <tbody>\n",
       "    <tr>\n",
       "      <th>0</th>\n",
       "      <td>The Shawshank Redemption</td>\n",
       "      <td>Crime, Drama</td>\n",
       "      <td>Frank Darabont</td>\n",
       "      <td>Stephen King (short story \"Rita Hayworth and S...</td>\n",
       "      <td>Tim Robbins, Morgan Freeman, Bob Gunton, Willi...</td>\n",
       "      <td>14 Oct 1994</td>\n",
       "      <td>Two imprisoned men bond over a number of years...</td>\n",
       "      <td>Crime, Drama Frank Darabont Tim Robbins, Morga...</td>\n",
       "    </tr>\n",
       "    <tr>\n",
       "      <th>1</th>\n",
       "      <td>The Godfather</td>\n",
       "      <td>Crime, Drama</td>\n",
       "      <td>Francis Ford Coppola</td>\n",
       "      <td>Mario Puzo (screenplay), Francis Ford Coppola ...</td>\n",
       "      <td>Marlon Brando, Al Pacino, James Caan, Richard ...</td>\n",
       "      <td>24 Mar 1972</td>\n",
       "      <td>The aging patriarch of an organized crime dyna...</td>\n",
       "      <td>Crime, Drama Francis Ford Coppola Marlon Brand...</td>\n",
       "    </tr>\n",
       "    <tr>\n",
       "      <th>2</th>\n",
       "      <td>The Godfather: Part II</td>\n",
       "      <td>Crime, Drama</td>\n",
       "      <td>Francis Ford Coppola</td>\n",
       "      <td>Francis Ford Coppola (screenplay), Mario Puzo ...</td>\n",
       "      <td>Al Pacino, Robert Duvall, Diane Keaton, Robert...</td>\n",
       "      <td>20 Dec 1974</td>\n",
       "      <td>The early life and career of Vito Corleone in ...</td>\n",
       "      <td>Crime, Drama Francis Ford Coppola Al Pacino, R...</td>\n",
       "    </tr>\n",
       "    <tr>\n",
       "      <th>3</th>\n",
       "      <td>The Dark Knight</td>\n",
       "      <td>Action, Crime, Drama</td>\n",
       "      <td>Christopher Nolan</td>\n",
       "      <td>Jonathan Nolan (screenplay), Christopher Nolan...</td>\n",
       "      <td>Christian Bale, Heath Ledger, Aaron Eckhart, M...</td>\n",
       "      <td>18 Jul 2008</td>\n",
       "      <td>When the menace known as the Joker emerges fro...</td>\n",
       "      <td>Action, Crime, Drama Christopher Nolan Christi...</td>\n",
       "    </tr>\n",
       "    <tr>\n",
       "      <th>4</th>\n",
       "      <td>12 Angry Men</td>\n",
       "      <td>Crime, Drama</td>\n",
       "      <td>Sidney Lumet</td>\n",
       "      <td>Reginald Rose (story), Reginald Rose (screenplay)</td>\n",
       "      <td>Martin Balsam, John Fiedler, Lee J. Cobb, E.G....</td>\n",
       "      <td>01 Apr 1957</td>\n",
       "      <td>A jury holdout attempts to prevent a miscarria...</td>\n",
       "      <td>Crime, Drama Sidney Lumet Martin Balsam, John ...</td>\n",
       "    </tr>\n",
       "  </tbody>\n",
       "</table>\n",
       "</div>"
      ],
      "text/plain": [
       "                      Title                 Genre              Director  \\\n",
       "0  The Shawshank Redemption          Crime, Drama        Frank Darabont   \n",
       "1             The Godfather          Crime, Drama  Francis Ford Coppola   \n",
       "2    The Godfather: Part II          Crime, Drama  Francis Ford Coppola   \n",
       "3           The Dark Knight  Action, Crime, Drama     Christopher Nolan   \n",
       "4              12 Angry Men          Crime, Drama          Sidney Lumet   \n",
       "\n",
       "                                              Writer  \\\n",
       "0  Stephen King (short story \"Rita Hayworth and S...   \n",
       "1  Mario Puzo (screenplay), Francis Ford Coppola ...   \n",
       "2  Francis Ford Coppola (screenplay), Mario Puzo ...   \n",
       "3  Jonathan Nolan (screenplay), Christopher Nolan...   \n",
       "4  Reginald Rose (story), Reginald Rose (screenplay)   \n",
       "\n",
       "                                              Actors     Released  \\\n",
       "0  Tim Robbins, Morgan Freeman, Bob Gunton, Willi...  14 Oct 1994   \n",
       "1  Marlon Brando, Al Pacino, James Caan, Richard ...  24 Mar 1972   \n",
       "2  Al Pacino, Robert Duvall, Diane Keaton, Robert...  20 Dec 1974   \n",
       "3  Christian Bale, Heath Ledger, Aaron Eckhart, M...  18 Jul 2008   \n",
       "4  Martin Balsam, John Fiedler, Lee J. Cobb, E.G....  01 Apr 1957   \n",
       "\n",
       "                                                Plot  \\\n",
       "0  Two imprisoned men bond over a number of years...   \n",
       "1  The aging patriarch of an organized crime dyna...   \n",
       "2  The early life and career of Vito Corleone in ...   \n",
       "3  When the menace known as the Joker emerges fro...   \n",
       "4  A jury holdout attempts to prevent a miscarria...   \n",
       "\n",
       "                                           rangkuman  \n",
       "0  Crime, Drama Frank Darabont Tim Robbins, Morga...  \n",
       "1  Crime, Drama Francis Ford Coppola Marlon Brand...  \n",
       "2  Crime, Drama Francis Ford Coppola Al Pacino, R...  \n",
       "3  Action, Crime, Drama Christopher Nolan Christi...  \n",
       "4  Crime, Drama Sidney Lumet Martin Balsam, John ...  "
      ]
     },
     "execution_count": 6,
     "metadata": {},
     "output_type": "execute_result"
    }
   ],
   "source": [
    "df.head()"
   ]
  },
  {
   "cell_type": "code",
   "execution_count": 7,
   "id": "33cdceb0",
   "metadata": {},
   "outputs": [],
   "source": [
    "clean_spcl = re.compile('[/(){}\\[\\]\\|@,;]')\n",
    "clean_symbol = re.compile('[^0-9a-z #+_]')\n",
    "stopworda = set(stopwords.words('english'))\n",
    "\n",
    "def clean_text(text):\n",
    "    text = text.lower() # lowercase text\n",
    "    text = clean_spcl.sub(' ', text)\n",
    "    text = clean_symbol.sub('', text)\n",
    "    text = ' '.join(word for word in text.split() if word not in stopworda) # hapus stopword dari kolom deskripsi\n",
    "    return text\n",
    "    \n",
    "df['desc_clean'] = df['rangkuman'].apply(clean_text)"
   ]
  },
  {
   "cell_type": "code",
   "execution_count": 8,
   "id": "58a7be7e",
   "metadata": {},
   "outputs": [
    {
     "data": {
      "text/html": [
       "<div>\n",
       "<style scoped>\n",
       "    .dataframe tbody tr th:only-of-type {\n",
       "        vertical-align: middle;\n",
       "    }\n",
       "\n",
       "    .dataframe tbody tr th {\n",
       "        vertical-align: top;\n",
       "    }\n",
       "\n",
       "    .dataframe thead th {\n",
       "        text-align: right;\n",
       "    }\n",
       "</style>\n",
       "<table border=\"1\" class=\"dataframe\">\n",
       "  <thead>\n",
       "    <tr style=\"text-align: right;\">\n",
       "      <th></th>\n",
       "      <th>Title</th>\n",
       "      <th>Genre</th>\n",
       "      <th>Director</th>\n",
       "      <th>Writer</th>\n",
       "      <th>Actors</th>\n",
       "      <th>Released</th>\n",
       "      <th>Plot</th>\n",
       "      <th>rangkuman</th>\n",
       "      <th>desc_clean</th>\n",
       "    </tr>\n",
       "  </thead>\n",
       "  <tbody>\n",
       "    <tr>\n",
       "      <th>0</th>\n",
       "      <td>The Shawshank Redemption</td>\n",
       "      <td>Crime, Drama</td>\n",
       "      <td>Frank Darabont</td>\n",
       "      <td>Stephen King (short story \"Rita Hayworth and S...</td>\n",
       "      <td>Tim Robbins, Morgan Freeman, Bob Gunton, Willi...</td>\n",
       "      <td>14 Oct 1994</td>\n",
       "      <td>Two imprisoned men bond over a number of years...</td>\n",
       "      <td>Crime, Drama Frank Darabont Tim Robbins, Morga...</td>\n",
       "      <td>crime drama frank darabont tim robbins morgan ...</td>\n",
       "    </tr>\n",
       "    <tr>\n",
       "      <th>1</th>\n",
       "      <td>The Godfather</td>\n",
       "      <td>Crime, Drama</td>\n",
       "      <td>Francis Ford Coppola</td>\n",
       "      <td>Mario Puzo (screenplay), Francis Ford Coppola ...</td>\n",
       "      <td>Marlon Brando, Al Pacino, James Caan, Richard ...</td>\n",
       "      <td>24 Mar 1972</td>\n",
       "      <td>The aging patriarch of an organized crime dyna...</td>\n",
       "      <td>Crime, Drama Francis Ford Coppola Marlon Brand...</td>\n",
       "      <td>crime drama francis ford coppola marlon brando...</td>\n",
       "    </tr>\n",
       "    <tr>\n",
       "      <th>2</th>\n",
       "      <td>The Godfather: Part II</td>\n",
       "      <td>Crime, Drama</td>\n",
       "      <td>Francis Ford Coppola</td>\n",
       "      <td>Francis Ford Coppola (screenplay), Mario Puzo ...</td>\n",
       "      <td>Al Pacino, Robert Duvall, Diane Keaton, Robert...</td>\n",
       "      <td>20 Dec 1974</td>\n",
       "      <td>The early life and career of Vito Corleone in ...</td>\n",
       "      <td>Crime, Drama Francis Ford Coppola Al Pacino, R...</td>\n",
       "      <td>crime drama francis ford coppola al pacino rob...</td>\n",
       "    </tr>\n",
       "    <tr>\n",
       "      <th>3</th>\n",
       "      <td>The Dark Knight</td>\n",
       "      <td>Action, Crime, Drama</td>\n",
       "      <td>Christopher Nolan</td>\n",
       "      <td>Jonathan Nolan (screenplay), Christopher Nolan...</td>\n",
       "      <td>Christian Bale, Heath Ledger, Aaron Eckhart, M...</td>\n",
       "      <td>18 Jul 2008</td>\n",
       "      <td>When the menace known as the Joker emerges fro...</td>\n",
       "      <td>Action, Crime, Drama Christopher Nolan Christi...</td>\n",
       "      <td>action crime drama christopher nolan christian...</td>\n",
       "    </tr>\n",
       "    <tr>\n",
       "      <th>4</th>\n",
       "      <td>12 Angry Men</td>\n",
       "      <td>Crime, Drama</td>\n",
       "      <td>Sidney Lumet</td>\n",
       "      <td>Reginald Rose (story), Reginald Rose (screenplay)</td>\n",
       "      <td>Martin Balsam, John Fiedler, Lee J. Cobb, E.G....</td>\n",
       "      <td>01 Apr 1957</td>\n",
       "      <td>A jury holdout attempts to prevent a miscarria...</td>\n",
       "      <td>Crime, Drama Sidney Lumet Martin Balsam, John ...</td>\n",
       "      <td>crime drama sidney lumet martin balsam john fi...</td>\n",
       "    </tr>\n",
       "  </tbody>\n",
       "</table>\n",
       "</div>"
      ],
      "text/plain": [
       "                      Title                 Genre              Director  \\\n",
       "0  The Shawshank Redemption          Crime, Drama        Frank Darabont   \n",
       "1             The Godfather          Crime, Drama  Francis Ford Coppola   \n",
       "2    The Godfather: Part II          Crime, Drama  Francis Ford Coppola   \n",
       "3           The Dark Knight  Action, Crime, Drama     Christopher Nolan   \n",
       "4              12 Angry Men          Crime, Drama          Sidney Lumet   \n",
       "\n",
       "                                              Writer  \\\n",
       "0  Stephen King (short story \"Rita Hayworth and S...   \n",
       "1  Mario Puzo (screenplay), Francis Ford Coppola ...   \n",
       "2  Francis Ford Coppola (screenplay), Mario Puzo ...   \n",
       "3  Jonathan Nolan (screenplay), Christopher Nolan...   \n",
       "4  Reginald Rose (story), Reginald Rose (screenplay)   \n",
       "\n",
       "                                              Actors     Released  \\\n",
       "0  Tim Robbins, Morgan Freeman, Bob Gunton, Willi...  14 Oct 1994   \n",
       "1  Marlon Brando, Al Pacino, James Caan, Richard ...  24 Mar 1972   \n",
       "2  Al Pacino, Robert Duvall, Diane Keaton, Robert...  20 Dec 1974   \n",
       "3  Christian Bale, Heath Ledger, Aaron Eckhart, M...  18 Jul 2008   \n",
       "4  Martin Balsam, John Fiedler, Lee J. Cobb, E.G....  01 Apr 1957   \n",
       "\n",
       "                                                Plot  \\\n",
       "0  Two imprisoned men bond over a number of years...   \n",
       "1  The aging patriarch of an organized crime dyna...   \n",
       "2  The early life and career of Vito Corleone in ...   \n",
       "3  When the menace known as the Joker emerges fro...   \n",
       "4  A jury holdout attempts to prevent a miscarria...   \n",
       "\n",
       "                                           rangkuman  \\\n",
       "0  Crime, Drama Frank Darabont Tim Robbins, Morga...   \n",
       "1  Crime, Drama Francis Ford Coppola Marlon Brand...   \n",
       "2  Crime, Drama Francis Ford Coppola Al Pacino, R...   \n",
       "3  Action, Crime, Drama Christopher Nolan Christi...   \n",
       "4  Crime, Drama Sidney Lumet Martin Balsam, John ...   \n",
       "\n",
       "                                          desc_clean  \n",
       "0  crime drama frank darabont tim robbins morgan ...  \n",
       "1  crime drama francis ford coppola marlon brando...  \n",
       "2  crime drama francis ford coppola al pacino rob...  \n",
       "3  action crime drama christopher nolan christian...  \n",
       "4  crime drama sidney lumet martin balsam john fi...  "
      ]
     },
     "execution_count": 8,
     "metadata": {},
     "output_type": "execute_result"
    }
   ],
   "source": [
    "df.head()"
   ]
  },
  {
   "cell_type": "code",
   "execution_count": 9,
   "id": "991f3f6c",
   "metadata": {},
   "outputs": [],
   "source": [
    "df.set_index('Title', inplace=True)"
   ]
  },
  {
   "cell_type": "code",
   "execution_count": 17,
   "id": "75a835a4",
   "metadata": {},
   "outputs": [
    {
     "data": {
      "text/plain": [
       "array([[1.        , 0.08163265, 0.07087699, ..., 0.02083786, 0.02083786,\n",
       "        0.02083786],\n",
       "       [0.08163265, 1.        , 0.28350796, ..., 0.02083786, 0.02083786,\n",
       "        0.02083786],\n",
       "       [0.07087699, 0.28350796, 1.        , ..., 0.01809233, 0.01809233,\n",
       "        0.01809233],\n",
       "       ...,\n",
       "       [0.02083786, 0.02083786, 0.01809233, ..., 1.        , 0.0212766 ,\n",
       "        0.0212766 ],\n",
       "       [0.02083786, 0.02083786, 0.01809233, ..., 0.0212766 , 1.        ,\n",
       "        0.0212766 ],\n",
       "       [0.02083786, 0.02083786, 0.01809233, ..., 0.0212766 , 0.0212766 ,\n",
       "        1.        ]])"
      ]
     },
     "execution_count": 17,
     "metadata": {},
     "output_type": "execute_result"
    }
   ],
   "source": [
    "count = CountVectorizer(analyzer='word', ngram_range=(1, 2), min_df=0, stop_words=stopwords.words('english'))\n",
    "count_matrix = count.fit_transform(df['desc_clean'])\n",
    "cosine_sim = cosine_similarity(count_matrix, count_matrix)\n",
    "cosine_sim "
   ]
  },
  {
   "cell_type": "code",
   "execution_count": 11,
   "id": "26f63a9a",
   "metadata": {},
   "outputs": [],
   "source": [
    "indices = pd.Series(df.index)\n",
    "\n",
    "def recommendations(Title, cosine_sim = cosine_sim):\n",
    "    \n",
    "    recommended_movies = []\n",
    "    idx = indices[indices == Title].index[0]\n",
    "    score_series = pd.Series(cosine_sim[idx]).sort_values(ascending = False)\n",
    "    top_10_indexes = list(score_series.iloc[1:11].index)\n",
    "    for i in top_10_indexes:\n",
    "        recommended_movies.append(list(df.index)[i])  \n",
    "    return recommended_movies"
   ]
  },
  {
   "cell_type": "markdown",
   "id": "a7bc0353",
   "metadata": {},
   "source": [
    "# Result"
   ]
  },
  {
   "cell_type": "code",
   "execution_count": 12,
   "id": "59695482",
   "metadata": {},
   "outputs": [
    {
     "data": {
      "text/plain": [
       "['Toy Story 3',\n",
       " 'Aladdin',\n",
       " 'Inside Out',\n",
       " 'Monsters, Inc.',\n",
       " 'Finding Nemo',\n",
       " 'Zootopia',\n",
       " 'Up',\n",
       " 'The Gold Rush',\n",
       " 'Annie Hall',\n",
       " 'Deadpool']"
      ]
     },
     "execution_count": 12,
     "metadata": {},
     "output_type": "execute_result"
    }
   ],
   "source": [
    "recommendations('Toy Story')"
   ]
  },
  {
   "cell_type": "code",
   "execution_count": 13,
   "id": "19fc783e",
   "metadata": {},
   "outputs": [
    {
     "data": {
      "text/plain": [
       "['Batman Begins',\n",
       " 'The Dark Knight Rises',\n",
       " 'The Prestige',\n",
       " 'The Green Mile',\n",
       " 'L.A. Confidential',\n",
       " 'Out of the Past',\n",
       " 'Heat',\n",
       " 'Reservoir Dogs',\n",
       " 'The Godfather: Part II',\n",
       " 'Interstellar']"
      ]
     },
     "execution_count": 13,
     "metadata": {},
     "output_type": "execute_result"
    }
   ],
   "source": [
    "recommendations('The Dark Knight')"
   ]
  },
  {
   "cell_type": "code",
   "execution_count": 14,
   "id": "19679d69",
   "metadata": {},
   "outputs": [
    {
     "data": {
      "text/plain": [
       "['Guardians of the Galaxy Vol. 2',\n",
       " 'Guardians of the Galaxy',\n",
       " 'Spider-Man: Homecoming',\n",
       " 'Rush',\n",
       " 'Terminator 2: Judgment Day',\n",
       " 'Aliens',\n",
       " 'Kill Bill: Vol. 1',\n",
       " 'The Terminator',\n",
       " 'Shutter Island',\n",
       " 'The Matrix']"
      ]
     },
     "execution_count": 14,
     "metadata": {},
     "output_type": "execute_result"
    }
   ],
   "source": [
    "recommendations('The Avengers')"
   ]
  },
  {
   "cell_type": "code",
   "execution_count": 15,
   "id": "a3909f6d",
   "metadata": {},
   "outputs": [
    {
     "data": {
      "text/plain": [
       "['Whiplash',\n",
       " 'The Help',\n",
       " 'Monty Python and the Holy Grail',\n",
       " 'The Graduate',\n",
       " 'The Truman Show',\n",
       " 'The Gold Rush',\n",
       " 'Life of Brian',\n",
       " 'His Girl Friday',\n",
       " 'The Kid',\n",
       " 'The Pianist']"
      ]
     },
     "execution_count": 15,
     "metadata": {},
     "output_type": "execute_result"
    }
   ],
   "source": [
    "recommendations('La La Land')"
   ]
  }
 ],
 "metadata": {
  "kernelspec": {
   "display_name": "Python 3 (ipykernel)",
   "language": "python",
   "name": "python3"
  },
  "language_info": {
   "codemirror_mode": {
    "name": "ipython",
    "version": 3
   },
   "file_extension": ".py",
   "mimetype": "text/x-python",
   "name": "python",
   "nbconvert_exporter": "python",
   "pygments_lexer": "ipython3",
   "version": "3.9.7"
  }
 },
 "nbformat": 4,
 "nbformat_minor": 5
}
